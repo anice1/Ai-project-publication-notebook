{
 "cells": [
  {
   "cell_type": "markdown",
   "id": "0dc1a7e7",
   "metadata": {},
   "source": [
    "# Welcome to My Git Control Center 😁"
   ]
  },
  {
   "cell_type": "code",
   "execution_count": 19,
   "id": "51c73195",
   "metadata": {},
   "outputs": [
    {
     "name": "stdout",
     "output_type": "stream",
     "text": [
      "error: remote origin already exists.\r\n"
     ]
    }
   ],
   "source": [
    "!git add .\n",
    "!git remote add origin https://github.com/anochima/Ai-project-publication-notebook.git"
   ]
  },
  {
   "cell_type": "code",
   "execution_count": 20,
   "id": "24534240",
   "metadata": {},
   "outputs": [
    {
     "name": "stdout",
     "output_type": "stream",
     "text": [
      "\u001b[33mhint: Pulling without specifying how to reconcile divergent branches is\u001b[m\n",
      "\u001b[33mhint: discouraged. You can squelch this message by running one of the following\u001b[m\n",
      "\u001b[33mhint: commands sometime before your next pull:\u001b[m\n",
      "\u001b[33mhint: \u001b[m\n",
      "\u001b[33mhint:   git config pull.rebase false  # merge (the default strategy)\u001b[m\n",
      "\u001b[33mhint:   git config pull.rebase true   # rebase\u001b[m\n",
      "\u001b[33mhint:   git config pull.ff only       # fast-forward only\u001b[m\n",
      "\u001b[33mhint: \u001b[m\n",
      "\u001b[33mhint: You can replace \"git config\" with \"git config --global\" to set a default\u001b[m\n",
      "\u001b[33mhint: preference for all repositories. You can also pass --rebase, --no-rebase,\u001b[m\n",
      "\u001b[33mhint: or --ff-only on the command line to override the configured default per\u001b[m\n",
      "\u001b[33mhint: invocation.\u001b[m\n",
      "From https://github.com/anochima/DevC-Abuja-Presentation\n",
      " * branch            master     -> FETCH_HEAD\n",
      "Already up to date.\n"
     ]
    }
   ],
   "source": [
    "!git pull origin master"
   ]
  },
  {
   "cell_type": "code",
   "execution_count": 18,
   "id": "a3dcf1ad",
   "metadata": {},
   "outputs": [],
   "source": [
    "!rm -rf .git"
   ]
  },
  {
   "cell_type": "code",
   "execution_count": 7,
   "id": "87fb32c0",
   "metadata": {},
   "outputs": [],
   "source": [
    "!git add ."
   ]
  },
  {
   "cell_type": "code",
   "execution_count": 8,
   "id": "746eceac",
   "metadata": {},
   "outputs": [
    {
     "name": "stdout",
     "output_type": "stream",
     "text": [
      "On branch master\r\n",
      "Changes to be committed:\r\n",
      "  (use \"git restore --staged <file>...\" to unstage)\r\n",
      "\t\u001b[32mnew file:   .ipynb_checkpoints/Git-checkpoint.ipynb\u001b[m\r\n",
      "\t\u001b[32mnew file:   Cardiovascular Disease Prediction.md\u001b[m\r\n",
      "\t\u001b[32mnew file:   Git.ipynb\u001b[m\r\n",
      "\t\u001b[32mnew file:   output_14_0.png\u001b[m\r\n",
      "\t\u001b[32mnew file:   output_15_0.png\u001b[m\r\n",
      "\r\n",
      "Changes not staged for commit:\r\n",
      "  (use \"git add <file>...\" to update what will be committed)\r\n",
      "  (use \"git restore <file>...\" to discard changes in working directory)\r\n",
      "  (commit or discard the untracked or modified content in submodules)\r\n",
      "\t\u001b[31mmodified:   ../.DS_Store\u001b[m\r\n",
      "\t\u001b[31mmodified:   ../Data-Science-Helper-Module\u001b[m (new commits, modified content, untracked content)\r\n",
      "\t\u001b[31mmodified:   ../Untitled.ipynb\u001b[m\r\n",
      "\r\n",
      "Untracked files:\r\n",
      "  (use \"git add <file>...\" to include in what will be committed)\r\n",
      "\t\u001b[31m../.ipynb_checkpoints/Untitled1-checkpoint.ipynb\u001b[m\r\n",
      "\t\u001b[31m../.ipynb_checkpoints/data_collection-checkpoint.ipynb\u001b[m\r\n",
      "\t\u001b[31m../.ipynb_checkpoints/scraper-checkpoint.ipynb\u001b[m\r\n",
      "\t\u001b[31m../Computer Vision/\u001b[m\r\n",
      "\t\u001b[31m../DeepLearning Activation Functions/\u001b[m\r\n",
      "\t\u001b[31m../SimpooBusiness/\u001b[m\r\n",
      "\t\u001b[31m../Spotify-Music-Recommender/\u001b[m\r\n",
      "\t\u001b[31m../Untitled1.ipynb\u001b[m\r\n",
      "\t\u001b[31m../data_collection.ipynb\u001b[m\r\n",
      "\t\u001b[31m../scraper.ipynb\u001b[m\r\n",
      "\r\n"
     ]
    }
   ],
   "source": [
    "!git status"
   ]
  },
  {
   "cell_type": "code",
   "execution_count": null,
   "id": "ae1ac0b4",
   "metadata": {},
   "outputs": [],
   "source": []
  }
 ],
 "metadata": {
  "kernelspec": {
   "display_name": "Python 3",
   "language": "python",
   "name": "python3"
  },
  "language_info": {
   "codemirror_mode": {
    "name": "ipython",
    "version": 3
   },
   "file_extension": ".py",
   "mimetype": "text/x-python",
   "name": "python",
   "nbconvert_exporter": "python",
   "pygments_lexer": "ipython3",
   "version": "3.8.8"
  }
 },
 "nbformat": 4,
 "nbformat_minor": 5
}
